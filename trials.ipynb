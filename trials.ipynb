{
 "cells": [
  {
   "cell_type": "code",
   "execution_count": 9,
   "metadata": {},
   "outputs": [
    {
     "name": "stdout",
     "output_type": "stream",
     "text": [
      "Hello World\n"
     ]
    }
   ],
   "source": [
    "print('Hello World')"
   ]
  },
  {
   "cell_type": "code",
   "execution_count": 3,
   "metadata": {},
   "outputs": [],
   "source": [
    "from langchain import PromptTemplate\n",
    "from langchain.chains import RetrievalQA\n",
    "from langchain.embeddings import HuggingFaceEmbeddings\n",
    "from langchain.vectorstores import Pinecone\n",
    "import pinecone\n",
    "from langchain.document_loaders import PyPDFLoader , DirectoryLoader\n",
    "from langchain.text_splitter import RecursiveCharacterTextSplitter\n",
    "from langchain.prompts import PromptTemplate\n",
    "from langchain.llms import CTransformers\n",
    "from dotenv import load_dotenv\n",
    "import os"
   ]
  },
  {
   "cell_type": "code",
   "execution_count": 2,
   "metadata": {},
   "outputs": [
    {
     "data": {
      "text/plain": [
       "True"
      ]
     },
     "execution_count": 2,
     "metadata": {},
     "output_type": "execute_result"
    }
   ],
   "source": [
    "load_dotenv()"
   ]
  },
  {
   "cell_type": "code",
   "execution_count": 11,
   "metadata": {},
   "outputs": [],
   "source": [
    "PINECONE_API_KEY = os.getenv('PINECONE_API_KEY')\n",
    "PINECONE_API_ENV = os.getenv('PINECONE_API_ENV')"
   ]
  },
  {
   "cell_type": "code",
   "execution_count": 12,
   "metadata": {},
   "outputs": [],
   "source": [
    "# Extract data from the PDF\n",
    "def load_pdf(data):\n",
    "    loader = DirectoryLoader(data,\n",
    "                    glob=\"*.pdf\",\n",
    "                    loader_cls=PyPDFLoader)\n",
    "    documents = loader.load()\n",
    "    return documents"
   ]
  },
  {
   "cell_type": "code",
   "execution_count": 13,
   "metadata": {},
   "outputs": [],
   "source": [
    "extracted_data = load_pdf(\"data/\")"
   ]
  },
  {
   "cell_type": "code",
   "execution_count": 14,
   "metadata": {},
   "outputs": [],
   "source": [
    "# extracted_data"
   ]
  },
  {
   "cell_type": "code",
   "execution_count": 15,
   "metadata": {},
   "outputs": [],
   "source": [
    "# Create text chunks\n",
    "\n",
    "def text_split(extracted_data):\n",
    "    text_splitter = RecursiveCharacterTextSplitter(chunk_size=500, chunk_overlap = 20)\n",
    "    text_chunks = text_splitter.split_documents(extracted_data)\n",
    "    return text_chunks"
   ]
  },
  {
   "cell_type": "code",
   "execution_count": 16,
   "metadata": {},
   "outputs": [
    {
     "data": {
      "text/plain": [
       "7020"
      ]
     },
     "execution_count": 16,
     "metadata": {},
     "output_type": "execute_result"
    }
   ],
   "source": [
    "text_chunks = text_split(extracted_data)\n",
    "len(text_chunks)"
   ]
  },
  {
   "cell_type": "code",
   "execution_count": 17,
   "metadata": {},
   "outputs": [],
   "source": [
    "# Download embedding model\n",
    "def download_hugging_face_embedding():\n",
    "    embeddings = HuggingFaceEmbeddings(model_name=\"sentence-transformers/all-MiniLM-L6-v2\")\n",
    "    return embeddings"
   ]
  },
  {
   "cell_type": "code",
   "execution_count": 18,
   "metadata": {},
   "outputs": [],
   "source": [
    "embeddings = download_hugging_face_embedding()"
   ]
  },
  {
   "cell_type": "code",
   "execution_count": 19,
   "metadata": {},
   "outputs": [
    {
     "data": {
      "text/plain": [
       "HuggingFaceEmbeddings(client=SentenceTransformer(\n",
       "  (0): Transformer({'max_seq_length': 256, 'do_lower_case': False}) with Transformer model: BertModel \n",
       "  (1): Pooling({'word_embedding_dimension': 384, 'pooling_mode_cls_token': False, 'pooling_mode_mean_tokens': True, 'pooling_mode_max_tokens': False, 'pooling_mode_mean_sqrt_len_tokens': False})\n",
       "  (2): Normalize()\n",
       "), model_name='sentence-transformers/all-MiniLM-L6-v2', cache_folder=None, model_kwargs={}, encode_kwargs={})"
      ]
     },
     "execution_count": 19,
     "metadata": {},
     "output_type": "execute_result"
    }
   ],
   "source": [
    "embeddings"
   ]
  },
  {
   "cell_type": "code",
   "execution_count": 20,
   "metadata": {},
   "outputs": [
    {
     "name": "stdout",
     "output_type": "stream",
     "text": [
      "Lenght:  384\n"
     ]
    }
   ],
   "source": [
    "query_result = embeddings.embed_query(\"Hello World\")\n",
    "print(\"Lenght: \", len(query_result))"
   ]
  },
  {
   "cell_type": "code",
   "execution_count": 21,
   "metadata": {},
   "outputs": [
    {
     "data": {
      "text/plain": [
       "[-0.03447724133729935,\n",
       " 0.031023146584630013,\n",
       " 0.006734973285347223,\n",
       " 0.026108982041478157,\n",
       " -0.03936201333999634,\n",
       " -0.16030243039131165,\n",
       " 0.06692401319742203,\n",
       " -0.0064414553344249725,\n",
       " -0.04745049774646759,\n",
       " 0.01475889328867197,\n",
       " 0.07087531685829163,\n",
       " 0.05552763491868973,\n",
       " 0.01919335499405861,\n",
       " -0.026251377537846565,\n",
       " -0.010109560564160347,\n",
       " -0.026940448209643364,\n",
       " 0.022307464852929115,\n",
       " -0.022226646542549133,\n",
       " -0.1496926248073578,\n",
       " -0.017493000254034996,\n",
       " 0.007676302921026945,\n",
       " 0.05435224995017052,\n",
       " 0.0032544273417443037,\n",
       " 0.03172589838504791,\n",
       " -0.08462139219045639,\n",
       " -0.029405996203422546,\n",
       " 0.05159558355808258,\n",
       " 0.048124056309461594,\n",
       " -0.0033147973008453846,\n",
       " -0.05827922374010086,\n",
       " 0.041969262063503265,\n",
       " 0.022210683673620224,\n",
       " 0.1281888484954834,\n",
       " -0.02233891189098358,\n",
       " -0.011656300164759159,\n",
       " 0.06292836368083954,\n",
       " -0.03287629410624504,\n",
       " -0.09122603386640549,\n",
       " -0.031175360083580017,\n",
       " 0.05269954726099968,\n",
       " 0.04703474044799805,\n",
       " -0.0842030718922615,\n",
       " -0.030056197196245193,\n",
       " -0.020744869485497475,\n",
       " 0.009517855010926723,\n",
       " -0.0037217792123556137,\n",
       " 0.007343298755586147,\n",
       " 0.03932430222630501,\n",
       " 0.09327403455972672,\n",
       " -0.0037885610945522785,\n",
       " -0.052742063999176025,\n",
       " -0.05805815011262894,\n",
       " -0.0068643842823803425,\n",
       " 0.0052832188084721565,\n",
       " 0.08289298415184021,\n",
       " 0.019362738355994225,\n",
       " 0.006284479051828384,\n",
       " -0.010330776683986187,\n",
       " 0.00903233140707016,\n",
       " -0.037683725357055664,\n",
       " -0.04520602524280548,\n",
       " 0.02401638589799404,\n",
       " -0.006944186985492706,\n",
       " 0.013491686433553696,\n",
       " 0.10005493462085724,\n",
       " -0.07168387621641159,\n",
       " -0.021695083007216454,\n",
       " 0.03161845728754997,\n",
       " -0.051634661853313446,\n",
       " -0.08224772661924362,\n",
       " -0.06569334119558334,\n",
       " -0.009895390830934048,\n",
       " 0.005816430784761906,\n",
       " 0.07355453819036484,\n",
       " -0.03405030816793442,\n",
       " 0.024886073544621468,\n",
       " 0.014488053508102894,\n",
       " 0.026457345113158226,\n",
       " 0.009656716138124466,\n",
       " 0.030217260122299194,\n",
       " 0.05280391871929169,\n",
       " -0.07535988837480545,\n",
       " 0.009897165931761265,\n",
       " 0.029836803674697876,\n",
       " 0.017555570229887962,\n",
       " 0.02309201844036579,\n",
       " 0.0019339132122695446,\n",
       " 0.0014002036768943071,\n",
       " -0.047175996005535126,\n",
       " -0.01119434554129839,\n",
       " -0.11420140415430069,\n",
       " -0.019811974838376045,\n",
       " 0.04026620462536812,\n",
       " 0.0021929738577455282,\n",
       " -0.07979217916727066,\n",
       " -0.025382263585925102,\n",
       " 0.09448295831680298,\n",
       " -0.028981124982237816,\n",
       " -0.14500249922275543,\n",
       " 0.2309773862361908,\n",
       " 0.02773117460310459,\n",
       " 0.03211148455739021,\n",
       " 0.03106500953435898,\n",
       " 0.04283282905817032,\n",
       " 0.06423778831958771,\n",
       " 0.032163187861442566,\n",
       " -0.004876680206507444,\n",
       " 0.05569937825202942,\n",
       " -0.037532392889261246,\n",
       " -0.021505478769540787,\n",
       " -0.02834261767566204,\n",
       " -0.028846975415945053,\n",
       " 0.038353051990270615,\n",
       " -0.017468687146902084,\n",
       " 0.052485279738903046,\n",
       " -0.07487606257200241,\n",
       " -0.03125975653529167,\n",
       " 0.02184154838323593,\n",
       " -0.039895668625831604,\n",
       " -0.008587109856307507,\n",
       " 0.02695656381547451,\n",
       " -0.048495516180992126,\n",
       " 0.011469846591353416,\n",
       " 0.029618212953209877,\n",
       " -0.020572245121002197,\n",
       " 0.013103868812322617,\n",
       " 0.028833463788032532,\n",
       " -3.1941972481122953e-33,\n",
       " 0.06478200852870941,\n",
       " -0.01813020370900631,\n",
       " 0.05178995802998543,\n",
       " 0.12198273837566376,\n",
       " 0.028780166059732437,\n",
       " 0.008722009137272835,\n",
       " -0.07052119076251984,\n",
       " -0.016907330602407455,\n",
       " 0.04073970764875412,\n",
       " 0.04211616516113281,\n",
       " 0.02544720098376274,\n",
       " 0.03574627637863159,\n",
       " -0.049144718796014786,\n",
       " 0.0021289787255227566,\n",
       " -0.015546579845249653,\n",
       " 0.05073058605194092,\n",
       " -0.0481853187084198,\n",
       " 0.03588061407208443,\n",
       " -0.004067081026732922,\n",
       " 0.10172469168901443,\n",
       " -0.05597006529569626,\n",
       " -0.01068102940917015,\n",
       " 0.011235767044126987,\n",
       " 0.09068652987480164,\n",
       " 0.0042344811372458935,\n",
       " 0.035138681530952454,\n",
       " -0.009702889248728752,\n",
       " -0.09386521577835083,\n",
       " 0.0928555428981781,\n",
       " 0.008004932664334774,\n",
       " -0.007705451920628548,\n",
       " -0.05208667740225792,\n",
       " -0.012587971054017544,\n",
       " 0.0032669364009052515,\n",
       " 0.0060134935192763805,\n",
       " 0.007581599522382021,\n",
       " 0.010517187416553497,\n",
       " -0.08634554594755173,\n",
       " -0.06987881660461426,\n",
       " -0.002533863764256239,\n",
       " -0.0909765362739563,\n",
       " 0.04688733443617821,\n",
       " 0.052076518535614014,\n",
       " 0.007193862926214933,\n",
       " 0.010903601534664631,\n",
       " -0.005229571368545294,\n",
       " 0.013937309384346008,\n",
       " 0.021968388929963112,\n",
       " 0.03420861437916756,\n",
       " 0.06022464856505394,\n",
       " 0.00011667551007121801,\n",
       " 0.014731986448168755,\n",
       " -0.07008922100067139,\n",
       " 0.028499053791165352,\n",
       " -0.027601681649684906,\n",
       " 0.010768422856926918,\n",
       " 0.03483093902468681,\n",
       " -0.02248787321150303,\n",
       " 0.009768958203494549,\n",
       " 0.07722783833742142,\n",
       " 0.021588338539004326,\n",
       " 0.11495621502399445,\n",
       " -0.06800118833780289,\n",
       " 0.023760955780744553,\n",
       " -0.01598396897315979,\n",
       " -0.017826948314905167,\n",
       " 0.06439489871263504,\n",
       " 0.03202568367123604,\n",
       " 0.05027024447917938,\n",
       " -0.005913758184760809,\n",
       " -0.03370807692408562,\n",
       " 0.01784028671681881,\n",
       " 0.016573341563344002,\n",
       " 0.06329652667045593,\n",
       " 0.03467719629406929,\n",
       " 0.04647347331047058,\n",
       " 0.09790607541799545,\n",
       " -0.006635468918830156,\n",
       " 0.02520710416138172,\n",
       " -0.07798831909894943,\n",
       " 0.016926415264606476,\n",
       " -0.0009458623826503754,\n",
       " 0.022471878677606583,\n",
       " -0.038253188133239746,\n",
       " 0.09570479393005371,\n",
       " -0.0053507667034864426,\n",
       " 0.010469083674252033,\n",
       " -0.11524049192667007,\n",
       " -0.013262511231005192,\n",
       " -0.010709443129599094,\n",
       " -0.0831172913312912,\n",
       " 0.07327355444431305,\n",
       " 0.0493922084569931,\n",
       " -0.008994325995445251,\n",
       " -0.0958455502986908,\n",
       " 3.36614782706661e-33,\n",
       " 0.12493182718753815,\n",
       " 0.0193497221916914,\n",
       " -0.05822570621967316,\n",
       " -0.035988230258226395,\n",
       " -0.05074670910835266,\n",
       " -0.045662373304367065,\n",
       " -0.08260341733694077,\n",
       " 0.14819477498531342,\n",
       " -0.08842118829488754,\n",
       " 0.060274410992860794,\n",
       " 0.051030147820711136,\n",
       " 0.01030312292277813,\n",
       " 0.14121420681476593,\n",
       " 0.030813803896307945,\n",
       " 0.06103309616446495,\n",
       " -0.05285123735666275,\n",
       " 0.13664893805980682,\n",
       " 0.009189937263727188,\n",
       " -0.01732519455254078,\n",
       " -0.012848665937781334,\n",
       " -0.007995326071977615,\n",
       " -0.05098002776503563,\n",
       " -0.05235065892338753,\n",
       " 0.007593036629259586,\n",
       " -0.015166332013905048,\n",
       " 0.01696038246154785,\n",
       " 0.02127053216099739,\n",
       " 0.020558057352900505,\n",
       " -0.12002810090780258,\n",
       " 0.014461827464401722,\n",
       " 0.026759954169392586,\n",
       " 0.02533058077096939,\n",
       " -0.04275462403893471,\n",
       " 0.00676845945417881,\n",
       " -0.014458571560680866,\n",
       " 0.045261990278959274,\n",
       " -0.09147647768259048,\n",
       " -0.019439147785305977,\n",
       " -0.01783350668847561,\n",
       " -0.05491018295288086,\n",
       " -0.052641015499830246,\n",
       " -0.010459101758897305,\n",
       " -0.052016038447618484,\n",
       " 0.02089199610054493,\n",
       " -0.07997030019760132,\n",
       " -0.012111333198845387,\n",
       " -0.057731449604034424,\n",
       " 0.02317822352051735,\n",
       " -0.008031727746129036,\n",
       " -0.025989308953285217,\n",
       " -0.07995671033859253,\n",
       " -0.02072887495160103,\n",
       " 0.04881769418716431,\n",
       " -0.020389126613736153,\n",
       " -0.04917660355567932,\n",
       " 0.014159693382680416,\n",
       " -0.06362200528383255,\n",
       " -0.007807432673871517,\n",
       " 0.016431525349617004,\n",
       " -0.025682482868433,\n",
       " 0.013381135649979115,\n",
       " 0.02624872326850891,\n",
       " 0.009978416375815868,\n",
       " 0.06322888284921646,\n",
       " 0.002672201255336404,\n",
       " -0.006582716014236212,\n",
       " 0.016631893813610077,\n",
       " 0.032366473227739334,\n",
       " 0.03794245421886444,\n",
       " -0.03637603670358658,\n",
       " -0.0069109429605305195,\n",
       " 0.00015965505735948682,\n",
       " -0.0016335456166416407,\n",
       " -0.02727820910513401,\n",
       " -0.02803811803460121,\n",
       " 0.049681421369314194,\n",
       " -0.028867168352007866,\n",
       " -0.002418037736788392,\n",
       " 0.014774917624890804,\n",
       " 0.009764614515006542,\n",
       " 0.005797568708658218,\n",
       " 0.01348611805588007,\n",
       " 0.005567876156419516,\n",
       " 0.03722713887691498,\n",
       " 0.007232505828142166,\n",
       " 0.0401562862098217,\n",
       " 0.08150327950716019,\n",
       " 0.0719916820526123,\n",
       " -0.013056173920631409,\n",
       " -0.04288205876946449,\n",
       " -0.01101120188832283,\n",
       " 0.0048978012055158615,\n",
       " -0.009229753166437149,\n",
       " 0.03519148752093315,\n",
       " -0.051034994423389435,\n",
       " -1.571437557856825e-08,\n",
       " -0.08862442523241043,\n",
       " 0.02390933595597744,\n",
       " -0.016238747164607048,\n",
       " 0.031700506806373596,\n",
       " 0.027284275740385056,\n",
       " 0.05246884748339653,\n",
       " -0.0470709465444088,\n",
       " -0.058847445994615555,\n",
       " -0.06320816278457642,\n",
       " 0.04088851809501648,\n",
       " 0.04982797056436539,\n",
       " 0.10655169188976288,\n",
       " -0.07450230419635773,\n",
       " -0.012495465576648712,\n",
       " 0.018370654433965683,\n",
       " 0.039474133402109146,\n",
       " -0.024797886610031128,\n",
       " 0.014516287483274937,\n",
       " -0.03706923499703407,\n",
       " 0.020015697926282883,\n",
       " -4.861707202508114e-05,\n",
       " 0.00986657664179802,\n",
       " 0.02483874373137951,\n",
       " -0.05245814844965935,\n",
       " 0.029314151033759117,\n",
       " -0.0871918648481369,\n",
       " -0.014499676413834095,\n",
       " 0.026019103825092316,\n",
       " -0.018746383488178253,\n",
       " -0.07620513439178467,\n",
       " 0.035043299198150635,\n",
       " 0.10363953560590744,\n",
       " -0.028050497174263,\n",
       " 0.012718172743916512,\n",
       " -0.07632549852132797,\n",
       " -0.018652360886335373,\n",
       " 0.02497674524784088,\n",
       " 0.08144532889127731,\n",
       " 0.06875885277986526,\n",
       " -0.06405661255121231,\n",
       " -0.08389384299516678,\n",
       " 0.06136235594749451,\n",
       " -0.03354553133249283,\n",
       " -0.10615338385105133,\n",
       " -0.04008055850863457,\n",
       " 0.032530173659324646,\n",
       " 0.07662485539913177,\n",
       " -0.0730162262916565,\n",
       " 0.000337612465955317,\n",
       " -0.040871601551771164,\n",
       " -0.0757884830236435,\n",
       " 0.027527710422873497,\n",
       " 0.07462543249130249,\n",
       " 0.017717348411679268,\n",
       " 0.091218501329422,\n",
       " 0.11022019386291504,\n",
       " 0.0005697938613593578,\n",
       " 0.05146336928009987,\n",
       " -0.014551320113241673,\n",
       " 0.033232007175683975,\n",
       " 0.023792274296283722,\n",
       " -0.02288978546857834,\n",
       " 0.03893757238984108,\n",
       " 0.030206862837076187]"
      ]
     },
     "execution_count": 21,
     "metadata": {},
     "output_type": "execute_result"
    }
   ],
   "source": [
    "query_result"
   ]
  },
  {
   "cell_type": "code",
   "execution_count": 23,
   "metadata": {},
   "outputs": [],
   "source": [
    "# Initialize the Pinecone\n",
    "pinecone.init(\n",
    "    api_key=PINECONE_API_KEY,\n",
    "    environment=PINECONE_API_ENV\n",
    ")\n",
    "index_name = \"medical-chatbot\"\n",
    "# Creating Embeddings for Each of the text chunks and storing them \n",
    "# Uncomment the line below to add data to pinecone\n",
    "# docsearch = Pinecone.from_texts([t.page_content for t in text_chunks],embeddings,index_name=index_name) "
   ]
  },
  {
   "cell_type": "code",
   "execution_count": 24,
   "metadata": {},
   "outputs": [
    {
     "name": "stdout",
     "output_type": "stream",
     "text": [
      "Result [Document(page_content=\"GALE ENCYCLOPEDIA OF MEDICINE 2 117Allergies\\nAllergic rhinitis is commonly triggered by\\nexposure to household dust, animal fur,or pollen. The foreign substance thattriggers an allergic reaction is calledan allergen.\\nThe presence of an allergen causes the\\nbody's lymphocytes to begin producingIgE antibodies. The lymphocytes of an allergy sufferer produce an unusuallylarge amount of IgE.\\nIgE molecules attach to mast\\ncells, which contain histamine.HistaminePollen grains\\nLymphocyte\\nFIRST EXPOSURE\", metadata={}), Document(page_content='allergens are the following:\\n• plant pollens\\n• animal fur and dander\\n• body parts from house mites (microscopic creatures\\nfound in all houses)\\n• house dust• mold spores• cigarette smoke• solvents• cleaners\\nCommon food allergens include the following:\\n• nuts, especially peanuts, walnuts, and brazil nuts\\n• fish, mollusks, and shellfish• eggs• wheat• milk• food additives and preservatives\\nThe following types of drugs commonly cause aller-\\ngic reactions:\\n• penicillin or other antibiotics', metadata={}), Document(page_content='itchy, scratchy nose, eyes, and throat common in aller-gic rhinitis.\\nThe number of possible airborne allergens is enor-', metadata={})]\n"
     ]
    }
   ],
   "source": [
    "#If we already have an index we can load it like this\n",
    "docsearch=Pinecone.from_existing_index(index_name, embeddings)\n",
    "\n",
    "query = \"What are Allergies\"\n",
    "\n",
    "docs=docsearch.similarity_search(query, k=3)\n",
    "\n",
    "print(\"Result\", docs)"
   ]
  },
  {
   "cell_type": "code",
   "execution_count": 25,
   "metadata": {},
   "outputs": [],
   "source": [
    "prompt_template=\"\"\"\n",
    "Use the following pieces of information which are ranked results from a vector database to answer the user's question.\n",
    "If you don't know the answer, just say that you don't know, don't try to make up an answer.\n",
    "\n",
    "Context: {context}\n",
    "Question: {question}\n",
    "\n",
    "Only return the helpful answer below and nothing else.\n",
    "Helpful answer:\n",
    "\"\"\""
   ]
  },
  {
   "cell_type": "code",
   "execution_count": 26,
   "metadata": {},
   "outputs": [],
   "source": [
    "PROMPT=PromptTemplate(template=prompt_template, input_variables=[\"context\", \"question\"])\n",
    "chain_type_kwargs={\"prompt\": PROMPT}"
   ]
  },
  {
   "cell_type": "code",
   "execution_count": 27,
   "metadata": {},
   "outputs": [],
   "source": [
    "llm=CTransformers(model=\"model\\llama-2-7b-chat.ggmlv3.q8_0.bin\",\n",
    "                  model_type=\"llama\",\n",
    "                  config={'max_new_tokens':512,\n",
    "                          'temperature':0.8})"
   ]
  },
  {
   "cell_type": "code",
   "execution_count": 28,
   "metadata": {},
   "outputs": [],
   "source": [
    "docsearch=Pinecone.from_existing_index(index_name, embeddings)"
   ]
  },
  {
   "cell_type": "code",
   "execution_count": 29,
   "metadata": {},
   "outputs": [],
   "source": [
    "qa=RetrievalQA.from_chain_type(\n",
    "    llm=llm, \n",
    "    chain_type=\"stuff\", \n",
    "    retriever=docsearch.as_retriever(search_kwargs={'k': 2}),\n",
    "    return_source_documents=True, \n",
    "    chain_type_kwargs=chain_type_kwargs)"
   ]
  },
  {
   "cell_type": "code",
   "execution_count": 31,
   "metadata": {},
   "outputs": [
    {
     "name": "stdout",
     "output_type": "stream",
     "text": [
      "Response :  Psoriasis is a chronic autoimmune disease that affects the skin, causing itchy, scaly, red patches on the skin.\n",
      "Goodbye!\n"
     ]
    }
   ],
   "source": [
    "while True:\n",
    "    user_input=input(f\"Input Prompt:\")\n",
    "    if user_input == \"quit\":\n",
    "        print(\"Goodbye!\")\n",
    "        break\n",
    "    result=qa({\"query\": user_input})\n",
    "    print(\"Response : \", result[\"result\"])"
   ]
  }
 ],
 "metadata": {
  "kernelspec": {
   "display_name": "Python 3",
   "language": "python",
   "name": "python3"
  },
  "language_info": {
   "codemirror_mode": {
    "name": "ipython",
    "version": 3
   },
   "file_extension": ".py",
   "mimetype": "text/x-python",
   "name": "python",
   "nbconvert_exporter": "python",
   "pygments_lexer": "ipython3",
   "version": "3.10.9"
  }
 },
 "nbformat": 4,
 "nbformat_minor": 2
}
